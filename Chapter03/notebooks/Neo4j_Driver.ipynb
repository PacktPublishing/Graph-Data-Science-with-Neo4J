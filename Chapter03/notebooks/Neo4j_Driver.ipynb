{
 "cells": [
  {
   "cell_type": "markdown",
   "id": "42f24ab7",
   "metadata": {},
   "source": [
    "# Exploring graph content with the Neo4j Python driver\n",
    "\n",
    "We use the Neo4j Python driver to count the number of occurrences of each node label and relationship type in our graph."
   ]
  },
  {
   "cell_type": "code",
   "execution_count": 1,
   "id": "46ecd468",
   "metadata": {},
   "outputs": [],
   "source": [
    "# !pip install neo4j"
   ]
  },
  {
   "cell_type": "code",
   "execution_count": 13,
   "id": "357e6455",
   "metadata": {},
   "outputs": [],
   "source": [
    "from collections import defaultdict\n",
    "from neo4j import GraphDatabase"
   ]
  },
  {
   "cell_type": "code",
   "execution_count": 3,
   "id": "170ea52c",
   "metadata": {},
   "outputs": [
    {
     "data": {
      "text/plain": [
       "<neo4j.BoltDriver at 0x7f37b49d2f80>"
      ]
     },
     "execution_count": 3,
     "metadata": {},
     "output_type": "execute_result"
    }
   ],
   "source": [
    "driver = GraphDatabase.driver(\"bolt://localhost:7687\", auth=(\"neo4j\", \"<PASSWORD>\"))\n",
    "driver"
   ]
  },
  {
   "cell_type": "code",
   "execution_count": 21,
   "id": "dbf9f093",
   "metadata": {},
   "outputs": [
    {
     "data": {
      "text/plain": [
       "defaultdict(int, {'NodeA': 2000})"
      ]
     },
     "execution_count": 21,
     "metadata": {},
     "output_type": "execute_result"
    }
   ],
   "source": [
    "with driver.session() as s:\n",
    "    result = s.run(\"MATCH (n) RETURN n\")\n",
    "    data = defaultdict(int)\n",
    "    for r in result:\n",
    "        for l in r[\"n\"].labels:\n",
    "            data[l] += 1\n",
    "data"
   ]
  },
  {
   "cell_type": "code",
   "execution_count": 26,
   "id": "32edfa09",
   "metadata": {},
   "outputs": [
    {
     "data": {
      "text/plain": [
       "defaultdict(int, {'LINK': 19900})"
      ]
     },
     "execution_count": 26,
     "metadata": {},
     "output_type": "execute_result"
    }
   ],
   "source": [
    "with driver.session() as s:\n",
    "    result = s.run(\"MATCH ()-[rel]->() RETURN rel\")\n",
    "    data = defaultdict(int)\n",
    "    for r in result:\n",
    "        data[r[\"rel\"].type] += 1\n",
    "data"
   ]
  },
  {
   "cell_type": "code",
   "execution_count": null,
   "id": "18e8ce04",
   "metadata": {},
   "outputs": [],
   "source": []
  }
 ],
 "metadata": {
  "kernelspec": {
   "display_name": "Python 3 (ipykernel)",
   "language": "python",
   "name": "python3"
  },
  "language_info": {
   "codemirror_mode": {
    "name": "ipython",
    "version": 3
   },
   "file_extension": ".py",
   "mimetype": "text/x-python",
   "name": "python",
   "nbconvert_exporter": "python",
   "pygments_lexer": "ipython3",
   "version": "3.10.4"
  }
 },
 "nbformat": 4,
 "nbformat_minor": 5
}
